{
  "nbformat": 4,
  "nbformat_minor": 0,
  "metadata": {
    "colab": {
      "provenance": []
    },
    "kernelspec": {
      "name": "python3",
      "display_name": "Python 3"
    },
    "language_info": {
      "name": "python"
    }
  },
  "cells": [
    {
      "cell_type": "markdown",
      "source": [
        "Muhammad Nizar Subakti\n",
        "\n",
        "G.231.22.0116"
      ],
      "metadata": {
        "id": "juXk7pNgGcpQ"
      }
    },
    {
      "cell_type": "markdown",
      "source": [
        "Soal BubbleSort"
      ],
      "metadata": {
        "id": "ZX3Hty_BcWiH"
      }
    },
    {
      "cell_type": "code",
      "source": [
        "def bubbleSort(array):\n",
        "    length = len(array)  # Mendapatkan panjang array\n",
        "    exchange_occurred = False  # Inisialisasi variabel untuk menandai apakah pertukaran (swap) terjadi\n",
        "\n",
        "    for i in range(length - 1):  # Iterasi melalui array\n",
        "        for j in range(0, length - i - 1):  # Iterasi melalui elemen yang belum terurut\n",
        "            if array[j] > array[j + 1]:  # Cek apakah pertukaran diperlukan\n",
        "                exchange_occurred = True  # Menandai bahwa pertukaran terjadi\n",
        "                array[j], array[j + 1] = array[j + 1], array[j]  # Lakukan pertukaran\n",
        "\n",
        "        if not exchange_occurred:\n",
        "            break  # Jika tidak ada pertukaran, array sudah terurut, keluar dari loop\n",
        "\n",
        "# Kode pengujian di bawah ini\n",
        "arr = [64, 34, 25, 12, 22, 11, 90]\n",
        "\n",
        "bubbleSort(arr)  # Panggil fungsi pengurutan menggunakan metode bubble sort\n",
        "\n",
        "print(\"Array yang terurut:\")\n",
        "for i in range(len(arr)):\n",
        "    print(\"%d\" % arr[i], end=\" \")  # Cetak elemen-elemen array yang sudah terurut\n"
      ],
      "metadata": {
        "colab": {
          "base_uri": "https://localhost:8080/"
        },
        "id": "iq3asf8OblrE",
        "outputId": "0fee9b76-663d-4abe-845b-91a8800edbdd"
      },
      "execution_count": null,
      "outputs": [
        {
          "output_type": "stream",
          "name": "stdout",
          "text": [
            "Array yang terurut:\n",
            "11 12 22 25 34 64 90 "
          ]
        }
      ]
    },
    {
      "cell_type": "markdown",
      "source": [
        "Selection sort"
      ],
      "metadata": {
        "id": "j3aJj-axFwKl"
      }
    },
    {
      "cell_type": "code",
      "source": [
        "def selection_Sort(data):\n",
        "\n",
        "    # Looping data dan cari elemen minimum di setiap iterasi\n",
        "    for indeks in range(len(data)): # Mengulangi indeks dari 0 sampai panjang data minus 1\n",
        "        min_indeks = indeks # Mengasumsikan elemen pada indeks saat ini adalah minimum\n",
        "        for k in range(indeks+1, len(data)): # Mengulangi k dari indeks berikutnya sampai panjang data minus 1\n",
        "            if data[min_indeks] > data[k]: # Membandingkan elemen minimum dengan elemen pada k\n",
        "                min_indeks = k # Menyimpan indeks elemen minimum baru\n",
        "\n",
        "        # Tukar elemen minimum dengan elemen saat ini\n",
        "        data[indeks], data[min_indeks] = data[min_indeks], data[indeks] # Menukar elemen yang tidak berurutan\n",
        "\n",
        "    # Kembalikan data yang terurut\n",
        "    return data # Mengembalikan data yang sudah terurut\n",
        "\n",
        "# Kode untuk menguji di atas\n",
        "data = [25, 29, 13, 19, 15] # Membuat data acak\n",
        "data_terurut = selection_Sort(data) # Memanggil fungsi selection_Sort dan menyimpan hasilnya dalam variabel data_terurut\n",
        "print(\"Data yang terurut adalah:\", data_terurut) # Mencetak data yang terurut"
      ],
      "metadata": {
        "id": "7EoHbYKaceZn"
      },
      "execution_count": null,
      "outputs": []
    },
    {
      "cell_type": "markdown",
      "source": [
        "InsertionSort"
      ],
      "metadata": {
        "id": "o0Dt96xXGQ4m"
      }
    },
    {
      "cell_type": "code",
      "source": [
        "def insertionSort(data):\n",
        "\n",
        "    # Looping data dan sisipkan setiap elemen di posisi yang benar\n",
        "    for indeks in range(1, len(data)): # Mengulangi indeks dari 1 sampai panjang data minus 1\n",
        "        kunci = data[indeks] # Menyimpan elemen pada indeks saat ini sebagai kunci\n",
        "        k = indeks-1 # Menyimpan indeks sebelumnya sebagai k\n",
        "\n",
        "        # Geser elemen yang lebih besar dari kunci ke kanan\n",
        "        while k >= 0 and kunci < data[k]: # Mengulangi selama k tidak negatif dan kunci lebih kecil dari elemen pada k\n",
        "            data[k + 1] = data[k] # Menyalin elemen pada k ke posisi berikutnya\n",
        "            k -= 1 # Mengurangi k dengan satu\n",
        "\n",
        "        # Sisipkan kunci di posisi yang benar\n",
        "        data[k + 1] = kunci # Menempatkan kunci di posisi yang kosong\n",
        "\n",
        "    # Kembalikan data yang terurut\n",
        "    return data # Mengembalikan data yang sudah terurut\n",
        "\n",
        "# Kode untuk menguji di atas\n",
        "data = [25, 29, 13, 19, 15] # Membuat data acak\n",
        "data_terurut = insertionSort(data) # Memanggil fungsi insertionSort dan menyimpan hasilnya dalam variabel data_terurut\n",
        "print(\"Data yang terurut adalah:\", data_terurut) # Mencetak data yang terurut"
      ],
      "metadata": {
        "id": "EYuuuVtWF2uW"
      },
      "execution_count": null,
      "outputs": []
    }
  ]
}